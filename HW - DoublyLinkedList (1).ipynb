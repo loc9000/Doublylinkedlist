{
 "cells": [
  {
   "cell_type": "code",
   "execution_count": null,
   "id": "0a8d36a0",
   "metadata": {},
   "outputs": [],
   "source": [
    "# LinkedList\n",
    "\n",
    "# pros:\n",
    "# To get from one node to the next, it'll always take the exact same amount of time\n",
    "\n",
    "# cons:\n",
    "# if you want to search for a particular value in the LinkedList, you're at the mercy of the amount of time it takes to \n",
    "# get from one node to the next, multiplied by however many \"indeces/nodes\" you have to traverse over in order\n",
    "# to get the value\n",
    "\n",
    "# l1 = [\"tim\", 1, \"Derek\", 2, \"Sam\"]\n",
    "# len(l1) - technically retrieves the size of a list"
   ]
  },
  {
   "cell_type": "code",
   "execution_count": null,
   "id": "a7b5115e",
   "metadata": {},
   "outputs": [],
   "source": [
    "# Exercise: Tweak the LinkedList data structure so that it makes a Doubly Linked List in which every \n",
    "# Node has a reference to not only its next Node, but also its previous node. Make sure to shift the items\n",
    "# attributes of any added or remove Nodes so that all surrounding Nodes's attribute reference match up\n",
    "# logically\n"
   ]
  },
  {
   "cell_type": "code",
   "execution_count": 1,
   "id": "59e4699c",
   "metadata": {},
   "outputs": [],
   "source": [
    "# Doubly linked list has different functions: insert (start/end), delete (start/end), traverse, display\n",
    "\n",
    "\n",
    "# copied from class lecture\n",
    "\n",
    "class Node:\n",
    "    def __init__(self, value, node=None):\n",
    "        self.value = value\n",
    "        self.next_node = node\n",
    "        self.previous_node = node # added a previous node pointer\n",
    "    \n",
    "    def get_value(self):\n",
    "        return self.value\n",
    "    \n",
    "    def set_value(self, new_value):\n",
    "        self.value = new_value\n",
    "        \n",
    "    def get_next_node(self):\n",
    "        return self.next_node\n",
    "        \n",
    "    def set_next_node(self, node):\n",
    "        self.next_node = node\n",
    "        \n",
    "    def get_previous_node(self): # added attributes for new pointers\n",
    "        return self.previous_node\n",
    "        \n",
    "    def set_previous_node(self, node):\n",
    "        self.prevoius_node = node\n",
    "        \n",
    "    def __repr__(self):\n",
    "        return f'<Node: {self.value}>'\n",
    "\n",
    "        \n",
    "class doublyLinkedList:\n",
    "    def __init__(self, root=None):\n",
    "        self.root = root\n",
    "        self.size = 0\n",
    "        \n",
    "    def add(self, number):\n",
    "        new_node = Node(number, self.root)\n",
    "        self.root = new_node\n",
    "        self.size += 1\n",
    "        \n",
    "    def remove(self, number):\n",
    "        current_node = self.root\n",
    "        prev_node = None\n",
    "        \n",
    "        while current_node:\n",
    "            if current_node.get_value() == number:\n",
    "                if prev_node:\n",
    "                    prev_node.set_next_node(current_node.get_next_node())\n",
    "                else:\n",
    "                    self.root = current_node.get_next_node()\n",
    "                self.size -= 1\n",
    "                return 'Node removed'\n",
    "            else:\n",
    "                prev_node = current_node\n",
    "                current_node = current_node.get_next_node()\n",
    "        return 'Node not found'\n",
    "    \n",
    "    def find(self, number):\n",
    "        current_node = self.root\n",
    "        \n",
    "        prev_node = None\n",
    "        \n",
    "        while current_node:\n",
    "            if current_node.get_value() == number:\n",
    "                return True\n",
    "            else:\n",
    "                current_node = current_node.get_next_node()\n",
    "        return False\n",
    "    \n",
    "    def get_root(self):\n",
    "        return self.root\n",
    "    \n",
    "    def get_size(self):\n",
    "        return self.size"
   ]
  },
  {
   "cell_type": "code",
   "execution_count": 2,
   "id": "b9791cfd",
   "metadata": {},
   "outputs": [],
   "source": [
    "dll = doublyLinkedList()\n",
    "dll.add(9)\n",
    "dll.add(70)\n",
    "dll.add(42)"
   ]
  },
  {
   "cell_type": "code",
   "execution_count": 3,
   "id": "a53e3d20",
   "metadata": {},
   "outputs": [
    {
     "data": {
      "text/plain": [
       "<Node: 42>"
      ]
     },
     "execution_count": 3,
     "metadata": {},
     "output_type": "execute_result"
    }
   ],
   "source": [
    "dll.get_root()"
   ]
  },
  {
   "cell_type": "code",
   "execution_count": 4,
   "id": "d8cf8c9b",
   "metadata": {},
   "outputs": [
    {
     "data": {
      "text/plain": [
       "'Node removed'"
      ]
     },
     "execution_count": 4,
     "metadata": {},
     "output_type": "execute_result"
    }
   ],
   "source": [
    "dll.remove(42)"
   ]
  },
  {
   "cell_type": "code",
   "execution_count": null,
   "id": "07fccbaa",
   "metadata": {},
   "outputs": [],
   "source": []
  }
 ],
 "metadata": {
  "kernelspec": {
   "display_name": "Python 3 (ipykernel)",
   "language": "python",
   "name": "python3"
  },
  "language_info": {
   "codemirror_mode": {
    "name": "ipython",
    "version": 3
   },
   "file_extension": ".py",
   "mimetype": "text/x-python",
   "name": "python",
   "nbconvert_exporter": "python",
   "pygments_lexer": "ipython3",
   "version": "3.9.7"
  }
 },
 "nbformat": 4,
 "nbformat_minor": 5
}
